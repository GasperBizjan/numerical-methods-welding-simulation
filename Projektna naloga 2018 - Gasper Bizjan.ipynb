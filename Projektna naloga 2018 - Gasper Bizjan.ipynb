{
 "cells": [
  {
   "cell_type": "markdown",
   "metadata": {
    "toc": true
   },
   "source": [
    "<h1>Kazalo<span class=\"tocSkip\"></span></h1>\n",
    "<div class=\"toc\"><ul class=\"toc-item\"><li><span><a href=\"#Definicija-naloge\" data-toc-modified-id=\"Definicija-naloge-1\"><span class=\"toc-item-num\">1&nbsp;&nbsp;</span>Definicija naloge</a></span><ul class=\"toc-item\"><li><span><a href=\"#Slika\" data-toc-modified-id=\"Slika-1.1\"><span class=\"toc-item-num\">1.1&nbsp;&nbsp;</span>Slika</a></span></li><li><span><a href=\"#Podatki\" data-toc-modified-id=\"Podatki-1.2\"><span class=\"toc-item-num\">1.2&nbsp;&nbsp;</span>Podatki</a></span></li><li><span><a href=\"#Moduli\" data-toc-modified-id=\"Moduli-1.3\"><span class=\"toc-item-num\">1.3&nbsp;&nbsp;</span>Moduli</a></span></li></ul></li><li><span><a href=\"#Sistemi-linearnih-enačb\" data-toc-modified-id=\"Sistemi-linearnih-enačb-2\"><span class=\"toc-item-num\">2&nbsp;&nbsp;</span>Sistemi linearnih enačb</a></span><ul class=\"toc-item\"><li><span><a href=\"#Simbolno-računanje-sistema-linearnih-enačb\" data-toc-modified-id=\"Simbolno-računanje-sistema-linearnih-enačb-2.1\"><span class=\"toc-item-num\">2.1&nbsp;&nbsp;</span>Simbolno računanje sistema linearnih enačb</a></span><ul class=\"toc-item\"><li><span><a href=\"#Sila-v-podpori-konzole\" data-toc-modified-id=\"Sila-v-podpori-konzole-2.1.1\"><span class=\"toc-item-num\">2.1.1&nbsp;&nbsp;</span>Sila v podpori konzole</a></span></li><li><span><a href=\"#Moment-v-podpori-konzole\" data-toc-modified-id=\"Moment-v-podpori-konzole-2.1.2\"><span class=\"toc-item-num\">2.1.2&nbsp;&nbsp;</span>Moment v podpori konzole</a></span></li></ul></li><li><span><a href=\"#Numeričen-izračun-matrik\" data-toc-modified-id=\"Numeričen-izračun-matrik-2.2\"><span class=\"toc-item-num\">2.2&nbsp;&nbsp;</span>Numeričen izračun matrik</a></span><ul class=\"toc-item\"><li><span><a href=\"#Sila-v-podpori-konzole\" data-toc-modified-id=\"Sila-v-podpori-konzole-2.2.1\"><span class=\"toc-item-num\">2.2.1&nbsp;&nbsp;</span>Sila v podpori konzole</a></span><ul class=\"toc-item\"><li><span><a href=\"#Reševanje-s-funkcijo-numpy-linalg\" data-toc-modified-id=\"Reševanje-s-funkcijo-numpy-linalg-2.2.1.1\"><span class=\"toc-item-num\">2.2.1.1&nbsp;&nbsp;</span>Reševanje s funkcijo numpy linalg</a></span></li><li><span><a href=\"#uporaba-modula-scypy-in-metode-LU-razcepa\" data-toc-modified-id=\"uporaba-modula-scypy-in-metode-LU-razcepa-2.2.1.2\"><span class=\"toc-item-num\">2.2.1.2&nbsp;&nbsp;</span>uporaba modula scypy in metode LU razcepa</a></span></li></ul></li><li><span><a href=\"#Moment-v-podpori-konzole\" data-toc-modified-id=\"Moment-v-podpori-konzole-2.2.2\"><span class=\"toc-item-num\">2.2.2&nbsp;&nbsp;</span>Moment v podpori konzole</a></span><ul class=\"toc-item\"><li><span><a href=\"#Reševanje-s-funkcijo-numpy-linalg\" data-toc-modified-id=\"Reševanje-s-funkcijo-numpy-linalg-2.2.2.1\"><span class=\"toc-item-num\">2.2.2.1&nbsp;&nbsp;</span>Reševanje s funkcijo numpy linalg</a></span></li><li><span><a href=\"#uporaba-scypy-LU-razcepa\" data-toc-modified-id=\"uporaba-scypy-LU-razcepa-2.2.2.2\"><span class=\"toc-item-num\">2.2.2.2&nbsp;&nbsp;</span>uporaba scypy LU razcepa</a></span></li></ul></li></ul></li></ul></li><li><span><a href=\"#Simbolno-reševanje\" data-toc-modified-id=\"Simbolno-reševanje-3\"><span class=\"toc-item-num\">3&nbsp;&nbsp;</span>Simbolno reševanje</a></span><ul class=\"toc-item\"><li><span><a href=\"#Analitična-izpeljava-upogibnice\" data-toc-modified-id=\"Analitična-izpeljava-upogibnice-3.1\"><span class=\"toc-item-num\">3.1&nbsp;&nbsp;</span>Analitična izpeljava upogibnice</a></span></li></ul></li><li><span><a href=\"#Reševanje-diferencialnih-enačb\" data-toc-modified-id=\"Reševanje-diferencialnih-enačb-4\"><span class=\"toc-item-num\">4&nbsp;&nbsp;</span>Reševanje diferencialnih enačb</a></span><ul class=\"toc-item\"><li><span><a href=\"#Numerično-reševanje-enačbe-upogibnice\" data-toc-modified-id=\"Numerično-reševanje-enačbe-upogibnice-4.1\"><span class=\"toc-item-num\">4.1&nbsp;&nbsp;</span>Numerično reševanje enačbe upogibnice</a></span><ul class=\"toc-item\"><li><span><a href=\"#Primerjava-analitične-in-numerične-metode-reševanje-diferencialnih-enačb\" data-toc-modified-id=\"Primerjava-analitične-in-numerične-metode-reševanje-diferencialnih-enačb-4.1.1\"><span class=\"toc-item-num\">4.1.1&nbsp;&nbsp;</span>Primerjava analitične in numerične metode reševanje diferencialnih enačb</a></span></li><li><span><a href=\"#Uporabnost-numeričnega-reševanja-zaradi-kompleksnosti\" data-toc-modified-id=\"Uporabnost-numeričnega-reševanja-zaradi-kompleksnosti-4.1.2\"><span class=\"toc-item-num\">4.1.2&nbsp;&nbsp;</span>Uporabnost numeričnega reševanja zaradi kompleksnosti</a></span></li></ul></li></ul></li><li><span><a href=\"#Aproksimacija\" data-toc-modified-id=\"Aproksimacija-5\"><span class=\"toc-item-num\">5&nbsp;&nbsp;</span>Aproksimacija</a></span><ul class=\"toc-item\"><li><span><a href=\"#Funkcija-1D-PDE-Difuzije-toplote\" data-toc-modified-id=\"Funkcija-1D-PDE-Difuzije-toplote-5.1\"><span class=\"toc-item-num\">5.1&nbsp;&nbsp;</span>Funkcija 1D PDE Difuzije toplote</a></span><ul class=\"toc-item\"><li><span><a href=\"#Izris-teoretično-idealnega-primera\" data-toc-modified-id=\"Izris-teoretično-idealnega-primera-5.1.1\"><span class=\"toc-item-num\">5.1.1&nbsp;&nbsp;</span>Izris teoretično idealnega primera</a></span></li><li><span><a href=\"#3D-prikaz-temperatura-po-debelini-plošče-skozi-čas-pri-varjenju\" data-toc-modified-id=\"3D-prikaz-temperatura-po-debelini-plošče-skozi-čas-pri-varjenju-5.1.2\"><span class=\"toc-item-num\">5.1.2&nbsp;&nbsp;</span>3D prikaz temperatura po debelini plošče skozi čas pri varjenju</a></span></li></ul></li><li><span><a href=\"#Meritve\" data-toc-modified-id=\"Meritve-5.2\"><span class=\"toc-item-num\">5.2&nbsp;&nbsp;</span>Meritve</a></span></li><li><span><a href=\"#Postopek-aproksimacije\" data-toc-modified-id=\"Postopek-aproksimacije-5.3\"><span class=\"toc-item-num\">5.3&nbsp;&nbsp;</span>Postopek aproksimacije</a></span><ul class=\"toc-item\"><li><span><a href=\"#Aproksimacija-s-polinomom\" data-toc-modified-id=\"Aproksimacija-s-polinomom-5.3.1\"><span class=\"toc-item-num\">5.3.1&nbsp;&nbsp;</span>Aproksimacija s polinomom</a></span></li><li><span><a href=\"#Aproksimacija-z-zlepki\" data-toc-modified-id=\"Aproksimacija-z-zlepki-5.3.2\"><span class=\"toc-item-num\">5.3.2&nbsp;&nbsp;</span>Aproksimacija z zlepki</a></span></li></ul></li></ul></li><li><span><a href=\"#Reševanje-enačb-(iskanje-ničel)\" data-toc-modified-id=\"Reševanje-enačb-(iskanje-ničel)-6\"><span class=\"toc-item-num\">6&nbsp;&nbsp;</span>Reševanje enačb (iskanje ničel)</a></span><ul class=\"toc-item\"><li><span><a href=\"#Določanje-pozicije-konstantne-temperature\" data-toc-modified-id=\"Določanje-pozicije-konstantne-temperature-6.1\"><span class=\"toc-item-num\">6.1&nbsp;&nbsp;</span>Določanje pozicije konstantne temperature</a></span></li><li><span><a href=\"#Določanje-debeline-plošče\" data-toc-modified-id=\"Določanje-debeline-plošče-6.2\"><span class=\"toc-item-num\">6.2&nbsp;&nbsp;</span>Določanje debeline plošče</a></span></li></ul></li><li><span><a href=\"#Odvajanje\" data-toc-modified-id=\"Odvajanje-7\"><span class=\"toc-item-num\">7&nbsp;&nbsp;</span>Odvajanje</a></span><ul class=\"toc-item\"><li><span><a href=\"#Popravek-maksimalnega-časa\" data-toc-modified-id=\"Popravek-maksimalnega-časa-7.1\"><span class=\"toc-item-num\">7.1&nbsp;&nbsp;</span>Popravek maksimalnega časa</a></span><ul class=\"toc-item\"><li><span><a href=\"#Funkcija-odvajanja\" data-toc-modified-id=\"Funkcija-odvajanja-7.1.1\"><span class=\"toc-item-num\">7.1.1&nbsp;&nbsp;</span>Funkcija odvajanja</a></span></li><li><span><a href=\"#Končni-maksimalni-čas\" data-toc-modified-id=\"Končni-maksimalni-čas-7.1.2\"><span class=\"toc-item-num\">7.1.2&nbsp;&nbsp;</span>Končni maksimalni čas</a></span></li></ul></li></ul></li><li><span><a href=\"#Zaključek\" data-toc-modified-id=\"Zaključek-8\"><span class=\"toc-item-num\">8&nbsp;&nbsp;</span>Zaključek</a></span></li></ul></div>"
   ]
  },
  {
   "cell_type": "markdown",
   "metadata": {},
   "source": [
    "Avtor: **Gašper Bizjan**, **23170101**\n",
    "\n",
    "Datum: 16. Januar 2018\n",
    "\n",
    "*Potrjujem, da sem avtor projektne naloge in da sem vso vsebino pripravil sam. V primeru, da se ugotovi plagiatorstvo se zavedam, da ne bom izpolnjeval pogojev za pristop k izpitu.*"
   ]
  },
  {
   "cell_type": "markdown",
   "metadata": {},
   "source": [
    "# Definicija naloge # \n",
    "**Po naročilu konstruiramo konzolni nosilec napenjalca.** \n",
    "\n",
    "Podano imamo silo $F$ in moment $M$, ki jih bo v svojem delovanju vrteč se napenjalec prenesel na nosilec. Poznamo tudi dolžino $L$ in $r$ *(glejte sliko)*. \n",
    "Konzolni nosilec dobimo tako, da zavarimo jekleno palico (okroglega prereza) na jekleno ploščo. Izbrati moramo ustrezne dimenzije nosilca, material in ostale parametre, da bo konstrukcija zdržala obremenitve. To naredimo tako, da bomo:\n",
    "- Izračunali reakcije v podpori nosilca ter notranje sile z uporabo *Sistemov linearnih enačb*.\n",
    "- Preverili poves nosilca in zagotovili, da je znotraj dopustnega povesa s *Simbolnim računanjem*.\n",
    "- Isti poves in tudi bolj kompleksi primer preračunali v poglavju *Reševanje diferencialnih enačb*.\n",
    "- Z napako obremenjenimi meritvami temperature pri varjenju bomo naredili funkcijo z *Aproksimacijo*.\n",
    "- Z najdeno funkcijo določili debelino plošče z upoštevanjem temperature v poglavju *Reševanje enačb (iskanje ničel)*.\n",
    "- Določili maksimalni smiselni čas računanja varjenja s pomočjo *Odvajanja*.\n",
    "\n",
    "Preko teh korakov bomo odgovorili na vprašanje naloge:\n",
    "\n",
    "**Kakšen nosilec in plošča sta najbolj primerna za izdelavo napenjalca?**"
   ]
  },
  {
   "cell_type": "markdown",
   "metadata": {},
   "source": [
    "## Slika ##\n",
    "<img src=\"Slike\\Napenjalec.png\" width=\"600\">\n",
    "\n",
    "\n",
    "<center> Slika 1: Napenjalec, ki ga montiramo na konzolni nosilec </center>"
   ]
  },
  {
   "cell_type": "markdown",
   "metadata": {},
   "source": [
    "## Podatki ##\n",
    "Podani so $F, M, L$ in $r$."
   ]
  },
  {
   "cell_type": "markdown",
   "metadata": {},
   "source": [
    "## Moduli ##"
   ]
  },
  {
   "cell_type": "code",
   "execution_count": 1,
   "metadata": {},
   "outputs": [],
   "source": [
    "import numpy as np\n",
    "import sympy as sym\n",
    "sym.init_printing()\n",
    "import matplotlib as mpl\n",
    "import matplotlib.pyplot as plt\n",
    "import pickle as pkl\n",
    "import time"
   ]
  },
  {
   "cell_type": "code",
   "execution_count": 2,
   "metadata": {},
   "outputs": [],
   "source": [
    "### Nastavimo velikost inline grafikonov ###\n",
    "plt.rcParams[\"figure.figsize\"] = (9,7)"
   ]
  },
  {
   "cell_type": "markdown",
   "metadata": {},
   "source": [
    "# Sistemi linearnih enačb #"
   ]
  },
  {
   "cell_type": "markdown",
   "metadata": {},
   "source": [
    "<figure>\n",
    "  <img src=\"Slike/3D_konzola.png\" width=\"900\"/>\n",
    "  <figcaption> <center> Slika 2: Reakcijska shema konzole</center> </figcaption>\n",
    "</figure>\n",
    "\n",
    "Za podano konzolo v 3D prostoru izračunajmo reakcije (silo in moment) v podpori konzole (točka A).\n",
    "- spremeni silo in moment v bolj ciklično (dvosmerno obračanje škribca)\n",
    "- grafi, ki prikazujejo škripec\n",
    "- podatke uvozi iz datoteke"
   ]
  },
  {
   "cell_type": "markdown",
   "metadata": {},
   "source": [
    "## Simbolno računanje sistema linearnih enačb ##\n",
    "Iz konzole razberemo **fizikalni problem** v obliki lineranih enačb v katerih se nahajajo iskane neznanke. Sistem enačb lahko zapišemo tudi v matrični obliki:\n",
    "\n",
    "$$A\\vec{x} = \\vec{b}$$\n",
    "- $A$ - znana matrika koeficientov\n",
    "- $\\vec{b}$ - znan vektor konstant\n",
    "- $\\vec{x}$ - vektor neznank\n",
    "Imamo sistem enačb tako pri sili kot pri momentu, ki ga bomo poskušali rešiti tako simbolno kot numerično.\n",
    "\n",
    "Zapišemo dva matrična zapisa linearnih enačb - enega za silo in drugega za momente v podpori konzole. Za simbolno računanje uporabimo modul *sympy*"
   ]
  },
  {
   "cell_type": "code",
   "execution_count": null,
   "metadata": {},
   "outputs": [],
   "source": [
    "A11, A12, A13, A21, A22, A23, A31, A32, A33 = sym.symbols('A11, A12, A13, A21, A22, A23, A31, A32, A33')\n",
    "x1, x2, x3 = sym.symbols('x1, x2, x3')\n",
    "b1, b2, b3 = sym.symbols('b1, b2, b3')\n",
    "A = sym.Matrix([[A11, A12, A13],\n",
    "                [A21, A22, A23],\n",
    "                [A31, A32, A33]]) #Matrika koeficientov\n",
    "x = sym.Matrix([[x1],\n",
    "                [x2],\n",
    "                [x3]]) #vektor neznank\n",
    "b = sym.Matrix([[b1],\n",
    "                [b2],\n",
    "                [b3]]) #vektor konstant\n",
    "eq = sym.Eq(A*x,b) \n",
    "eq  #Splošen zapis Ax=b za 3x3 sistem (3 neznanke, 3 enačbe - sistem je rešljiv)"
   ]
  },
  {
   "cell_type": "markdown",
   "metadata": {},
   "source": [
    "### Sila v podpori konzole ###\n",
    "V splošno matrično enačbo vstavimo simbole za naš problem. Dobimo enačbo s katero določimo sile v podpori."
   ]
  },
  {
   "cell_type": "code",
   "execution_count": null,
   "metadata": {},
   "outputs": [],
   "source": [
    "F, Fx, Fy, Fz, fi =sym.symbols('F, F_x F_y F_z phi')\n",
    "Ax, Ay, Az =sym.symbols('A_x A_y A_z')\n",
    "\n",
    "menjave_A = {(A11, 1), (A12, 0), (A13, 0), (A21, 0), (A22, 1), (A23, 0), (A31, 0), (A32, 0), (A33, 1)}\n",
    "menjave_x = {(x1, Ax), (x2, Ay), (x3, Az)}\n",
    "menjave_b = {(b1,Fx), (b2, Fy), (b3,Fz)}\n",
    "\n",
    "A_F, x_F, b_F = A.subs(menjave_A), x.subs(menjave_x), b.subs(menjave_b)\n",
    "eq = sym.Eq(A_F*x_F,b_F)\n",
    "eq"
   ]
  },
  {
   "cell_type": "markdown",
   "metadata": {},
   "source": [
    "Raztavimo silo $F$:"
   ]
  },
  {
   "cell_type": "code",
   "execution_count": null,
   "metadata": {},
   "outputs": [],
   "source": [
    "F_y = sym.Eq(Fy,F*sym.cos(fi))\n",
    "F_z = sym.Eq(Fz,F*sym.sin(fi))\n",
    "F_y, F_z"
   ]
  },
  {
   "cell_type": "markdown",
   "metadata": {},
   "source": [
    " Vpišemo dane numerične podatke in izračunamo največjo silo."
   ]
  },
  {
   "cell_type": "code",
   "execution_count": null,
   "metadata": {},
   "outputs": [],
   "source": [
    "F_num = np.linspace(0,2000,100) #N; sila v škripcu, ki se nahaja med danim intervalom\n",
    "fi_num = np.pi/6 #rad; kot delovanja vrvi na navpičnico\n",
    "\n",
    "Fy_num = F_num*np.cos(fi_num)\n",
    "Fz_num = F_num*np.sin(fi_num)\n",
    "\n",
    "sym.solve(eq.subs({(Fx, 0), (Fy, Fy_num[-1]), (Fz, -Fz_num[-1])}))"
   ]
  },
  {
   "cell_type": "markdown",
   "metadata": {},
   "source": [
    "### Moment v podpori konzole ###\n",
    "V splošno matrično enačbo vstavimo simbole za naš problem. Dobimo enačbo s katero določimo momente v podpori."
   ]
  },
  {
   "cell_type": "code",
   "execution_count": null,
   "metadata": {},
   "outputs": [],
   "source": [
    "Fx, Fy, Fz, M, L, r =sym.symbols('F_x F_y F_z M L r')\n",
    "M_Ax, M_Ay, M_Az =sym.symbols('M_Ax M_Ay M_Az')\n",
    "\n",
    "menjave_x = {(x1, M_Ax), (x2, M_Ay), (x3, M_Az)}\n",
    "menjave_b = {(b1, -Fy*L-M ), (b2, -Fz*r), (b3,-Fy*r)}\n",
    "\n",
    "A_M = sym.diag(1,1,1) #sympy funkcija iz katere dobimo diagonalno matriko\n",
    "x_M, b_M = x.subs(menjave_x), b.subs(menjave_b)\n",
    "\n",
    "eq = sym.Eq(A_M*x_M,b_M) #imamo tak sistem enačb tako pri sili kot pri momentu\n",
    "eq"
   ]
  },
  {
   "cell_type": "code",
   "execution_count": null,
   "metadata": {},
   "outputs": [],
   "source": [
    "###Numerični podatki, ki jih še nimamo: ###\n",
    "M_num = np.linspace(-500,500,100) #Nm; moment v škripcu \n",
    "L_num = 2 #m; dolžina nosilne palice\n",
    "r_num = 0.2 #m; oddaljenost prijemališča vrvi na škribcu od palice\n",
    "\n",
    "sym.solve(eq.subs({(Fy, Fy_num[-1]), (Fz, Fz_num[-1]), (M, M_num[-1]), (L, L_num), (r, r_num)}) )"
   ]
  },
  {
   "cell_type": "markdown",
   "metadata": {},
   "source": [
    "## Numeričen izračun matrik ##\n",
    "Simbolno računanje matrik je v numeričnem smislu potratno. Preko modula *Numpy* lahko računamo večje sisteme hitreje.\n",
    "\n",
    "### Sila v podpori konzole ###\n",
    "ponovno vpišemo dane numerične podatke:"
   ]
  },
  {
   "cell_type": "code",
   "execution_count": null,
   "metadata": {},
   "outputs": [],
   "source": [
    "F_num = np.linspace(0,2000,100) #N; sila v škripcu\n",
    "M_num = np.linspace(-500,500,100) #Nm; moment v škripcu \n",
    "L_num = 2 #m; dolžina nosilne palice\n",
    "r_num = 0.2 #m; oddaljenost prijemališča vrvi na škribcu od palice\n",
    "fi_num = np.pi/6 #rad; kot delovanja vrvi na navpičnico\n",
    "Fy_num = F_num*np.cos(fi_num) #Raztavljena sila F\n",
    "Fz_num = F_num*np.sin(fi_num)"
   ]
  },
  {
   "cell_type": "markdown",
   "metadata": {},
   "source": [
    "#### Reševanje s funkcijo numpy linalg ####"
   ]
  },
  {
   "cell_type": "code",
   "execution_count": null,
   "metadata": {},
   "outputs": [],
   "source": [
    "A = np.array([[1, 0, 0],\n",
    "              [0, 1, 0],\n",
    "              [0, 0, 1]])         #matrika konstant\n",
    "b = np.empty((0,3), int)          #vektor koeficientov sil\n",
    "F_xyz = np.empty((0,3), int)      #vektor neznank\n",
    "\n",
    "np.linalg.cond(A) #Preverimo pogojenost matrike konstant - ta je dobra"
   ]
  },
  {
   "cell_type": "code",
   "execution_count": null,
   "metadata": {},
   "outputs": [],
   "source": [
    "for i in range(len(F_num)):\n",
    "    b = np.append(b, np.array([[0, Fy_num[i], -Fz_num[i]]]), axis=0) # v zanki zapolnimo b z različnimi silami skozi čas\n",
    "    xi = np.linalg.solve(A, b[i])                                    #numpy funkcija za reševanje lin. sist.\n",
    "    F_xyz = np.append(F_xyz, [xi], axis=0)                           #Posametne rešitve zapišemo na eno mesto\n",
    "#Dobili smo matriko matrik F_xyz, kjer je največja matrika F_xyz:\n",
    "F_xyz[-1]"
   ]
  },
  {
   "cell_type": "markdown",
   "metadata": {},
   "source": [
    "#### uporaba modula scypy in metode LU razcepa ####\n",
    "Ker imamo konstantno matriko koeficientov A, toda veliko različnih vektorjev b, je smiselno uporabiti LU razcep:"
   ]
  },
  {
   "cell_type": "code",
   "execution_count": null,
   "metadata": {},
   "outputs": [],
   "source": [
    "from scipy.linalg import lu_factor, lu_solve\n",
    "lu, piv = lu_factor(A)     #lu nosi matriko LU, piv nosi podatek o pivotiranju vrstic\n",
    "F_xyz = np.array([lu_solve((lu, piv), b[i]) for i in range(len(b))]) #izpeljevanje zank\n",
    "F_xyz[-1] #Izrazimo zadnjega"
   ]
  },
  {
   "cell_type": "markdown",
   "metadata": {},
   "source": [
    "### Moment v podpori konzole ###"
   ]
  },
  {
   "cell_type": "markdown",
   "metadata": {},
   "source": [
    "#### Reševanje s funkcijo numpy linalg ####"
   ]
  },
  {
   "cell_type": "code",
   "execution_count": null,
   "metadata": {},
   "outputs": [],
   "source": [
    "A = np.array([[1, 0, 0],\n",
    "              [0, 1, 0],\n",
    "              [0, 0, 1]])         #matrika koeficientov momentov\n",
    "b = np.empty((0,3), int)         # definiramo vektor konstant kot prazen vektor\n",
    "M_Axyz = np.empty((0,3), int)    # Sem bomo zapisovali dobljene momente\n",
    "\n",
    "for i in range(len(M_num)):\n",
    "    b = np.append(b, np.array([[-Fy_num[i]*L_num - M_num[i], -Fz_num[i]*r_num, -Fy_num[i]*r_num]]), axis=0) #vektor konstant\n",
    "    xi = np.linalg.solve(A, b[i])                                                                           #vektor neznank\n",
    "    M_Axyz = np.append(M_Axyz, [xi], axis=0)       #Storimo enako kot pri sili\n",
    "#Dobili smo matriko matrik M, kjer je največji moment \n",
    "M_Axyz[-1]"
   ]
  },
  {
   "cell_type": "markdown",
   "metadata": {},
   "source": [
    "#### uporaba scypy LU razcepa ####\n",
    "Enako velja za momente v podpori kot za sile:"
   ]
  },
  {
   "cell_type": "code",
   "execution_count": null,
   "metadata": {},
   "outputs": [],
   "source": [
    "from scipy.linalg import lu_factor, lu_solve\n",
    "lu, piv = lu_factor(A)\n",
    "M_xyz = np.array([lu_solve((lu, piv), b[i]) for i in range(len(b))])\n",
    "M_xyz[-1] #Izrazimo zadnjega"
   ]
  },
  {
   "cell_type": "markdown",
   "metadata": {},
   "source": [
    "# Simbolno reševanje #\n",
    "S simbolnim reševanjem lahko izračunamo veliko več kot le linearne enačbe! Izračunajmo klasičen primer diferencialne enačbe.\n",
    "## Analitična izpeljava upogibnice ##\n",
    "Ne želimo prevelike deformacije konzole. Z izračunom upogibnice preverimo njen poves! \n",
    "\n",
    "Moment, ki vpliva na upogib konzole deluje le okoli x-osi. Za enačbo upogibnice pride v poštev le M(x).\n",
    "\n",
    "$$ M_x(z)=M+F_y(L-z) $$\n",
    "\n",
    "Enačba upogibnice za našo konzolo je sledeča:\n",
    "\n",
    "<img style=\"float: right;\" src=\"Slike/Vztrajnostni_moment_Ix.jpg\" width=\"350\">\n",
    "$$y''(z)= \\,-\\frac{M_x(z)}{EI_x}$$\n",
    "\n",
    "\n",
    "\n",
    "* $E$ modul elastičnosti konzole iz jekla (enota : [$MPa$])\n",
    "* $z$ je dolžina na kateri gledamo poves (enota : [$mm$])\n",
    "* $I_x$ vztrajnostni moment (okrogel prerez) (enota : [$mm^4$])\n"
   ]
  },
  {
   "cell_type": "code",
   "execution_count": 5,
   "metadata": {},
   "outputs": [],
   "source": [
    "M, Fy, L, r, z, E, Ix, C1, C2 = sym.symbols('M F_y L r z E, I_x C_1 C_2') #Definiramo simbole\n",
    "Mx = sym.Function('M_x')(z)  #Definiramo funkciji\n",
    "y = sym.Function('y')(z)"
   ]
  },
  {
   "cell_type": "markdown",
   "metadata": {},
   "source": [
    "Zapišemo funkcijo $M(x)$, ki jo razberemo iz fizikalnega problema:"
   ]
  },
  {
   "cell_type": "code",
   "execution_count": null,
   "metadata": {},
   "outputs": [],
   "source": [
    "Mx_z = sym.Eq(Mx, M + Fy*(L-z) ) \n",
    "Mx_z"
   ]
  },
  {
   "cell_type": "markdown",
   "metadata": {},
   "source": [
    "Sledi *sympy* zapis **diferencialne enačbe upogibnice**:"
   ]
  },
  {
   "cell_type": "code",
   "execution_count": null,
   "metadata": {},
   "outputs": [],
   "source": [
    "deu = sym.Eq(sym.diff(y, z, z), -Mx_z.lhs/(E*Ix) )\n",
    "deu"
   ]
  },
  {
   "cell_type": "markdown",
   "metadata": {},
   "source": [
    "Vstavimo M_x"
   ]
  },
  {
   "cell_type": "code",
   "execution_count": null,
   "metadata": {},
   "outputs": [],
   "source": [
    "deu = deu.subs(Mx, Mx_z.rhs)\n",
    "deu"
   ]
  },
  {
   "cell_type": "markdown",
   "metadata": {},
   "source": [
    "Z dvakratnim nedoločenim integriranjem dobimo **splošno enačbo upogibnice** z dvema neznanima konstantama $C1$ in $C2$."
   ]
  },
  {
   "cell_type": "code",
   "execution_count": null,
   "metadata": {},
   "outputs": [],
   "source": [
    "dy_rocno = sym.Eq(sym.integrate(deu.lhs, z), sym.integrate(deu.rhs, z) + C2)\n",
    "dy_rocno"
   ]
  },
  {
   "cell_type": "code",
   "execution_count": null,
   "metadata": {},
   "outputs": [],
   "source": [
    "y_rocno = sym.Eq(sym.integrate(dy_rocno.lhs, z), sym.integrate(dy_rocno.rhs, z) + C1)\n",
    "y_rocno"
   ]
  },
  {
   "cell_type": "markdown",
   "metadata": {},
   "source": [
    "Rešimo lahko tudi drugače - uporabimo vdelano sympy funkcijo *sym.dsolve* za reševanje navadnih diferencialnih enačb. Najprej preverimo lastnosti diferencialne enačbe (stopnjo) in nato izvedemo izračun."
   ]
  },
  {
   "cell_type": "code",
   "execution_count": null,
   "metadata": {},
   "outputs": [],
   "source": [
    "sym.ode_order(deu, y)"
   ]
  },
  {
   "cell_type": "code",
   "execution_count": null,
   "metadata": {},
   "outputs": [],
   "source": [
    "#Imamo diferencialno enačbo drugega reda. Rešimo jo z sympy.dsolve.\n",
    "Resitev_deu = sym.dsolve(deu)\n",
    "Resitev_deu #Rešitev je enaka kot pri ročnem reševanju"
   ]
  },
  {
   "cell_type": "markdown",
   "metadata": {},
   "source": [
    "Kot vidimo je rezultat enak temu, ki smo ga dobili z ročno integracijo.\n",
    "\n",
    "Sledi določitev konstant $C1$ in $C2$.Za njihov izračun potrebujemo poiskati robne pogoje. Najlažje to storimo preko pogleda na skico.\n",
    "\n",
    "Ker vidimo, da  tik ob podpori ostane višina nespremenjena ne glede na obremenitev, hkrati pa nespremenjen ostane tudi naklon, določimo robni pogoj ter poračunamo konstante:\n",
    "* $y (z = 0) = 0$\n",
    "* $y'(z = 0) = 0$ \n",
    "\n",
    "Upogibnico smo prepisali v tako obliko, da lahko urejamo njene elemente.\n",
    "Na podlagi vrednosti funkcije $y$ pri $z=0$ izračunamo konstanto integracije $C1$."
   ]
  },
  {
   "cell_type": "code",
   "execution_count": null,
   "metadata": {},
   "outputs": [],
   "source": [
    "y1 =  Resitev_deu.rhs.subs(z,0) #nadomestimo z = 0\n",
    "sym.Eq(y.subs(z,0), y1), sym.Eq(y1, 0)"
   ]
  },
  {
   "cell_type": "code",
   "execution_count": null,
   "metadata": {},
   "outputs": [],
   "source": [
    "C1 = sym.solve(Resitev_deu.rhs.subs(z,0))[0]\n",
    "C1"
   ]
  },
  {
   "cell_type": "markdown",
   "metadata": {},
   "source": [
    "Na podlagi prvega odvoda $y'$ se lahko posvetimo reševanju konstante $C2$."
   ]
  },
  {
   "cell_type": "code",
   "execution_count": null,
   "metadata": {},
   "outputs": [],
   "source": [
    "#Z prvim odvodom dobimo drugo konstanto\n",
    "y2 = dy_rocno.rhs.subs(z,0)\n",
    "dy_rocno.subs(z,0), sym.Eq(y2, 0)"
   ]
  },
  {
   "cell_type": "code",
   "execution_count": null,
   "metadata": {},
   "outputs": [],
   "source": [
    "C2 = sym.solve(dy_rocno.rhs.subs(z,0))[0]\n",
    "C2"
   ]
  },
  {
   "cell_type": "markdown",
   "metadata": {},
   "source": [
    "Ko sta določena $C1$ in $C2$ ju vstavimo v splošno enačbo upogibnice in dobimo rešitev upogibnice naše konzole."
   ]
  },
  {
   "cell_type": "code",
   "execution_count": null,
   "metadata": {},
   "outputs": [],
   "source": [
    "Resitev_deu = Resitev_deu.subs('C1', C1).subs('C2', C2)\n",
    "Resitev_deu"
   ]
  },
  {
   "cell_type": "markdown",
   "metadata": {},
   "source": [
    "Poleg že znanih numeričnih konstant uvedemo še nekaj novih. Nato z *sympy* funkcijo *lambdify* pripravimo prevedeno funnkcijo, optimizirano za numerično izvajanje."
   ]
  },
  {
   "cell_type": "code",
   "execution_count": null,
   "metadata": {},
   "outputs": [],
   "source": [
    "z_num = np.linspace(0, L_num*1000, 100) #mm\n",
    "E_num = 210000 #MPa \n",
    "Ix_num =np.pi/4 * 50**4 #mm**4\n",
    "\n",
    "Resitev_deu_y = Resitev_deu.rhs.subs({(Fy, Fy_num[-1]), (M, M_num[-1]*1000), (L, L_num*1000), (E, E_num), (Ix, Ix_num)})\n",
    "Resitev_deu_y #Funkcija upogibnice konzole z vsemi konstantami nadomeščenimi z numeričnimi vrednostnmi (upoštevamo maksimalno silo Fy in moment M)"
   ]
  },
  {
   "cell_type": "code",
   "execution_count": null,
   "metadata": {},
   "outputs": [],
   "source": [
    "f_upog = sym.lambdify(z, Resitev_deu_y) #pripravimo prevedeno funnkcijo, optimizirano za numerično izvajanje."
   ]
  },
  {
   "cell_type": "markdown",
   "metadata": {},
   "source": [
    "Grafično pokažemo poves v odvisnosti od oddaljenosti(z) od mesta privaritve konzole."
   ]
  },
  {
   "cell_type": "code",
   "execution_count": null,
   "metadata": {},
   "outputs": [],
   "source": [
    "plt.plot(z_num, f_upog(z_num), 'r-')\n",
    "plt.title('Deformacija konzole zaradi obremenitev')\n",
    "plt.xlabel('Oddaljenost - z[mm]')\n",
    "plt.ylabel('Poves - y[mm]')\n",
    "plt.grid()\n",
    "print(f'Največja deformacija zaradi upogiba je na koncu konzole (z = L) in znaša y(L) = {f_upog(z_num[-1])} mm')"
   ]
  },
  {
   "cell_type": "markdown",
   "metadata": {},
   "source": [
    "# Reševanje diferencialnih enačb # "
   ]
  },
  {
   "cell_type": "markdown",
   "metadata": {},
   "source": [
    "Zgoraj smo rešili problem z analitično izpeljavo enačbe povesa iz Eulerjeve diferencialne enačbe. Analitični izračuni so sicer najbolj točni, a pri bolj kompleksnih sistemih ne pridejo v poštev. Poves določimo numerično z metodo *Runge-Kutta četrtega reda*, ki je vdelan znotraj modula *Scipy*.\n",
    "\n",
    "## Numerično reševanje enačbe upogibnice ##\n",
    "\n",
    "V prvem primeru bomo izračunali poves z enakimi parametri kot pri analitični metodi. Tako lahko primerjamo metodi in izračunamo napako numeričnega približka."
   ]
  },
  {
   "cell_type": "code",
   "execution_count": null,
   "metadata": {},
   "outputs": [],
   "source": [
    "## definiramo numerične konstante ##\n",
    "M = M_num[-1]*1000#Nmm\n",
    "F_y = Fy_num[-1]\n",
    "L = L_num*1000#mm\n",
    "E = 210000 #MPa\n",
    "I = Ix_num #mm**4\n",
    "\n",
    "args=(M, F_y, L, E, I)\n",
    "\n",
    "## neodvisna spremenljivka ##\n",
    "z = np.linspace(0, L, 100) #mm\n",
    "\n",
    "## začetne vrednosti iz robnih pogojev ##\n",
    "y0=0\n",
    "dy0=0\n",
    "zac_vr = [y0,dy0]"
   ]
  },
  {
   "cell_type": "code",
   "execution_count": null,
   "metadata": {},
   "outputs": [],
   "source": [
    "def fun_y(z, y, M, F_y, L, E, I):\n",
    "    '''\n",
    "    Pripravljena funkcija za izračun povesa z uporabo reševanja diderencialnih enačb.\n",
    "    \n",
    "    z     - neodvisna spremenljivka (dolžina konzole)\n",
    "    y     - odvisna spremenljivka (poves)\n",
    "    *args - podamo ostale parametre enačbe\n",
    "    '''\n",
    "    ddy =  -(M + F_y*(L-z))/(E*I)\n",
    "    return y[1], ddy"
   ]
  },
  {
   "cell_type": "markdown",
   "metadata": {},
   "source": [
    "Uvozimo modul *solve_ivp* iz *scipy*. Gre za močno orodje reševanja diferencialnih enačb za začetne probleme."
   ]
  },
  {
   "cell_type": "code",
   "execution_count": null,
   "metadata": {},
   "outputs": [],
   "source": [
    "from scipy.integrate import solve_ivp\n",
    "resitev = solve_ivp(lambda z, y: fun_y(z, y, *args), #funkcijo preoblikujemo tako, da sprejme dve spremenljivke\n",
    "                    t_span=(z[0], z[-1]),            #interval reševanja\n",
    "                    y0=zac_vr,                       #začetni pogoji\n",
    "                    method='RK45',                   #metoda reševanja (Runge-Kutta četrtega reda) \n",
    "                    t_eval=z)                        #število vrnjenih vrednosti\n",
    "y, dy = resitev.y\n",
    "y[-1]"
   ]
  },
  {
   "cell_type": "markdown",
   "metadata": {},
   "source": [
    "### Primerjava analitične in numerične metode reševanje diferencialnih enačb ###\n",
    "Prikažimo zdaj grafično primerjavo analitične in numerične metode ter izračunajmo napako:"
   ]
  },
  {
   "cell_type": "code",
   "execution_count": null,
   "metadata": {},
   "outputs": [],
   "source": [
    "plt.plot(z_num, f_upog(z_num), 'r.', alpha=0.5, lw=4)\n",
    "plt.plot(z, y, 'g')\n",
    "plt.title('Deformacija konzole zaradi obremenitev')\n",
    "plt.xlabel('Oddaljenost - z[mm]')\n",
    "plt.ylabel('Poves - y[mm]')\n",
    "plt.grid()\n",
    "\n",
    "print(f'Napaka med analitično in numerično izračunanim povesom je na koncu konzole:')\n",
    "print(f'|z_analitično - z_numerično|={abs(f_upog(z_num)[-1]-y[-1])}')"
   ]
  },
  {
   "cell_type": "markdown",
   "metadata": {},
   "source": [
    "Vidimo, da je napaka zanemarljivo majhna, saj je za več eksponentnih mest nižja."
   ]
  },
  {
   "cell_type": "markdown",
   "metadata": {},
   "source": [
    "### Uporabnost numeričnega reševanja zaradi kompleksnosti ###\n",
    "Sedaj se lotimo bolj kompleknega primera.\n",
    "\n",
    "- ponovno zanemarimo zadji del povesa dolžine $r$\n",
    "- imamo še silo, ki se pojavi v smeri $x$ ($F_x$ ni več $0$)\n",
    "- upoštevamo tudi maso nosilca v obliki polja $q$\n",
    "\n",
    "Dobimo sistem enačb za notranje momente: \n",
    "$$ M_x(z) = M+F_y(L-z)+\\frac{q}{2}(L-z)^2$$\n",
    "$$ M_y(z) = -F_x(L-z)$$\n",
    "\n",
    "Iz danih reakcij dobimo dve enačbi upogibnice:\n",
    "\n",
    "$$y''(z)= \\,-\\frac{M_x(z)}{EI_x}$$\n",
    "$$x''(z)= \\,\\frac{M_y(z)}{EI_y}$$\n",
    "\n",
    "Podobno kot prej, bomo računali poves, toda tokrat, dobimo poves v dveh smereh.\n",
    "\n",
    "* $E$ modul elastičnosti konzole iz jekla (enota : [$MPa$])\n",
    "* $z$ je dolžina na kateri gledamo poves (enota : [$mm$])\n",
    "* $I = I_x = I_y$ vztrajnostna momena (okrogel prerez) (enota : [$mm^4$])"
   ]
  },
  {
   "cell_type": "code",
   "execution_count": null,
   "metadata": {},
   "outputs": [],
   "source": [
    "## definiramo numerične konstante ##\n",
    "M = M_num[-1]*1000 #Nmm\n",
    "F_y = Fy_num[-1]\n",
    "F_x = 0.1*Fy_num[-1]\n",
    "q = 0.06#N/mm\n",
    "L = L_num*1000\n",
    "E = 210000 #MPa\n",
    "I = Ix_num #mm**4\n",
    "\n",
    "args_y=(M, F_y, q, L, E, I)\n",
    "args_x=(F_x, L, E, I)\n",
    "\n",
    "## neodvisna spremenljivka ##\n",
    "z = np.linspace(0, L, 100) #mm\n",
    "\n",
    "## začetne vrednosti iz robnih pogojev ##\n",
    "y0=0\n",
    "dy0=0\n",
    "x0=0\n",
    "dx0=0\n",
    "zac_vr_y = [y0,dy0]\n",
    "zac_vr_x = [x0,dx0]"
   ]
  },
  {
   "cell_type": "code",
   "execution_count": null,
   "metadata": {},
   "outputs": [],
   "source": [
    "def fun_y(z, y, M, F_y, q, L, E, I):\n",
    "    '''\n",
    "    Pripravljena funkcija za izračun povesa z uporabo reševanja diderencialnih enačb v smeri y.\n",
    "    \n",
    "    z     - neodvisna spremenljivka (dolžina konzole)\n",
    "    x     - odvisna spremenljivka (poves)\n",
    "    *args - podamo ostale parametre enačbe\n",
    "    '''\n",
    "    ddy =  - (M + F_y*(L-z)+(q/2)*(L-z)**2)/(E*I)\n",
    "    return y[1], ddy\n",
    "\n",
    "def fun_x(z, x, F_x, L, E, I):\n",
    "    '''\n",
    "    Pripravljena funkcija za izračun povesa z uporabo reševanja diderencialnih enačb v smeri x.\n",
    "    \n",
    "    z     - neodvisna spremenljivka (dolžina konzole)\n",
    "    x     - odvisna spremenljivka (poves)\n",
    "    *args - podamo ostale parametre enačbe\n",
    "    '''\n",
    "    ddx =  -F_x*(L-z) / (E*I)\n",
    "    return x[1], ddx"
   ]
  },
  {
   "cell_type": "markdown",
   "metadata": {},
   "source": [
    "Izračunajmo poves v obeh smereh:"
   ]
  },
  {
   "cell_type": "code",
   "execution_count": null,
   "metadata": {},
   "outputs": [],
   "source": [
    "poves_y = solve_ivp(lambda z, y: fun_y(z, y, *args_y), t_span=(z[0], z[-1]), y0=zac_vr_y, method='RK45', t_eval=z)\n",
    "y, dy = poves_y.y\n",
    "\n",
    "poves_x = solve_ivp(lambda z, x: fun_x(z, x, *args_x), t_span=(z[0], z[-1]), y0=zac_vr_x, method='RK45', t_eval=z)\n",
    "x, dx = poves_x.y"
   ]
  },
  {
   "cell_type": "markdown",
   "metadata": {},
   "source": [
    "Zapišimo še vrednosti za nedeformiran nosilec:"
   ]
  },
  {
   "cell_type": "code",
   "execution_count": null,
   "metadata": {},
   "outputs": [],
   "source": [
    "x_zac = np.zeros(len(z))\n",
    "y_zac = np.zeros(len(z))"
   ]
  },
  {
   "cell_type": "markdown",
   "metadata": {},
   "source": [
    "*matplotlib* ima sposobnost generiranja 3D grafov. Našo 3D konzolo tako grafično prikažemo:"
   ]
  },
  {
   "cell_type": "code",
   "execution_count": null,
   "metadata": {},
   "outputs": [],
   "source": [
    "from mpl_toolkits.mplot3d import Axes3D\n",
    "from matplotlib.ticker import LinearLocator, FormatStrFormatter\n",
    "\n",
    "fig = plt.figure('Poves nosilca v prostoru')\n",
    "ax = fig.add_subplot(111, projection='3d')           #Definiramo podgraf kot 3D\n",
    "nosilec = ax.plot3D(z, x_zac, y_zac, 'b--', lw=2, alpha=0.7, label='Nedeformirani nosilec')\n",
    "def_nosilec = ax.plot3D(z,x,y, 'r', lw=3, label='Deformirani nosilec')\n",
    "ax.set_xlabel('z [mm]')\n",
    "ax.set_ylabel('x [mm]')\n",
    "ax.set_zlabel('y [mm]')\n",
    "plt.legend()\n",
    "plt.show()"
   ]
  },
  {
   "cell_type": "markdown",
   "metadata": {},
   "source": [
    "Videli smo, da je numerično postopanje za reševanje diferencialnih problem veliko enostavneje. Toda vedno moramo biti pozorni na napako, saj se ta sešteva in raste. V našem primeru je napaka zanemarljiva.\n",
    "\n",
    "Tudi naš maksimalni poves je pri tej konzoli zelo majhen in zanemarljiv. Tako smo določili ustreznost jeklene palice, ki je naš nosilec. Sedaj pa rabimo zagotoviti ustrezne pogoje za nastanek konzole. "
   ]
  },
  {
   "cell_type": "markdown",
   "metadata": {},
   "source": [
    "# Aproksimacija #"
   ]
  },
  {
   "cell_type": "markdown",
   "metadata": {},
   "source": [
    "Preden se lotimo varjenja jeklene palice in plošče moramo predpisati debelino plošče $D$. Zagotoviti moramo dovolj debelo jekleno ploščo, da je pri varjenju ne bomo prevarili v celoti. Izvedemo serijo varilskih preizkusov na jeklenih ploščah različnih debelin v katerih se nahajajo visoko temperaturni termopari po debelini plošče. Podatke zabeležimo v datoteko in dobimo serijo matrik v odvisnosti od **temperature $T$, debeline plošče $D$ in časa $t$**.\n",
    "<img  src=\"Slike/Prerez_stene.png\" width=\"800\">\n",
    "\n",
    "Podatke bodo imeli določen delež napake. Tu bomo uporabili aproksimacijo! Toda najprej podatke potrebujemo. \n",
    "\n",
    "Podatke *simuliramo* z uporabo teorije **Difuzije toplote**, ki opiše distribucijo toplote (spremembo temperature) v regiji skozi čas. \n",
    "\n",
    "Predpostavimo, da varjenje ni točkovno, ampak konstantno po celotni površini plošče. Tako zanemarimo difuzije toplote po dolžini in višini plošče in upoštevamo le difuzijo po debelini $D$. **Primer je podoben prehodu toplote skozi zid.**\n",
    "Na eni strani plošče dovajamo toploto $q$ *(varjenje)*, ki nato prehaja skozi in na drugi strani izhaja iz plošče v okolico s stalno temperaturo. Izhodiščna temperaturo zaradi varjenja je na skrajni levi strani jeklene plošče $T_{S1}$, na drugi strani pa je temperatura sobe $T_{S1}$. Vmes pa je temperatura $T$ v odvisnosti od oddaljenosti od vira toplote in časa segrevanja.\n",
    "\n",
    "Predpostavimo še, da se $\\alpha$ ne spremeni, čeprav se jeklo stali.\n",
    "\n",
    "Ob upoštevanju predpostavk ugotovimo, da gre za parcialno diferencialno enačbo v eni prostorski dimenziji *(1D PDE)*:\n",
    "\n",
    "$$ \\frac{\\partial}{\\partial t} u(x,t) =  \\alpha  \\frac{\\partial^2 }{\\partial x^2}u(x,t)$$\n",
    "\n",
    "$$\\alpha = \\frac{k}{c_p \\rho} $$\n",
    "\n",
    "- $\\alpha$ - konstanta termalne difuzivnosti\n",
    "- $u$ je temperaturna funkcija, ki jo dobimo z rešitvijo PDE\n",
    "- $x_{max} = D$\n",
    "\n",
    "Problem rešimo tako, da ploščo razdelimo na finitno velike volumne (vozlišča) in v funkcijski zanki upoštevamo njihov medsebojni vpliv. Naša nova enačba je sledeča:\n",
    "\n",
    "$$ \\frac{dT_i}{dt} =  \\alpha \\bigg[ \\frac{-(T_{i}-T_{i-1}) }{\\Delta x^2}+\\frac{(T_{i+1}-T_{i}) }{\\Delta x^2} \\bigg] $$\n",
    "\n",
    "$$ T(t+ \\Delta t) \\approx T(t) + \\frac{dT}{dt} \\Delta t$$\n",
    "\n",
    "Sedaj enačbe spišemo v funkcijo, pri tem pa bomo lahko:\n",
    "- spreminjali konstante\n",
    "- izrisavali graf T(x) skozi čas\n",
    "- upoštevali merilske napake\n",
    "- datoteko zapisali zunaj programa in tako simulirali dobljene meritve termoparov"
   ]
  },
  {
   "cell_type": "markdown",
   "metadata": {},
   "source": [
    "## Funkcija 1D PDE Difuzije toplote ##"
   ]
  },
  {
   "cell_type": "code",
   "execution_count": null,
   "metadata": {},
   "outputs": [],
   "source": [
    "### Naredimo najprej funkcijo za naključje s katero bomo simulirali napake meritev ###\n",
    "def Random(n, low=-20, high=20, vkljuci=False):\n",
    "    '''\n",
    "    Funkcija nakjlučnih vektorskh polj.\n",
    "    \n",
    "    Vrnemo vektor naključnih vrednosti dimenzije n.\n",
    "    \n",
    "    Parametri\n",
    "    ---------\n",
    "    n       - dimenzija vektorja\n",
    "    low     - spodnja meja naključne napake\n",
    "    high    - zgornja meja naključne napake\n",
    "    vkljuci - True = vrne polni vektor; False = vrne prazni vektor \n",
    "    \n",
    "    '''\n",
    "    a = np.array([])\n",
    "    if vkljuci==True:\n",
    "        for i in range(n):\n",
    "            Ran = np.random.uniform(low, high)  #Simuliramo naključno napako meritve termoparov.\n",
    "            a = np.append(a, Ran)\n",
    "    elif vkljuci==False:\n",
    "        a=np.zeros(n)\n",
    "    return a"
   ]
  },
  {
   "cell_type": "code",
   "execution_count": null,
   "metadata": {},
   "outputs": [],
   "source": [
    "def f_dTdt(D, n, t_max, t_rt, dt, alpha, T0, T1s, T2s, Izrisavanje=True, Tip_podatka='r.', Napaka = False, Zapis_podatkov=False, Vrnitev=True):\n",
    "    '''\n",
    "    Funkcija 1D PDE Difuzije toplote\n",
    "    \n",
    "    Funkcija f_dTdt grafično prikazuje spremembo temperature znotraj stene in vrne vektor T(D) v času t_max s korakom dt.\n",
    "    Uporabljena je izpeljana enačba stacionarne tolplotne difuzije. Pozor! ob izvajanju animacije, naj se koda ne izvaja dalje.\n",
    "    \n",
    "    Parametri\n",
    "    ---------\n",
    "    D[m]           - Debelina plošče\n",
    "    n              - število diferencialnih polj znotraj plošče (večje pomeni večja natančnost) IZBERITE MED n = [2,15] \n",
    "    t_max[s]       - koliko časa odčitavamo\n",
    "    t_rt[s]        - 0 < t_rt <= 1 - Hitrsot animacije; 1 je dejanska hitrsot,  #ČE SPREMENIMO dt NE DELUJE\n",
    "    dt[s]          - diferencial časa (kako pogosto odčitamo)\n",
    "    alpha[m^2/s]   - konstanta termalne difuzivnosti\n",
    "    T0[stop. C]    - temperatura okolice\n",
    "    T1s[stop. C]   - Robna temperatura na levi\n",
    "    T2s[stop. C]   - robna temperatura na desni\n",
    "    Izrisavanje    - True: Animira graf; False: Ne animira grafa\n",
    "    Tip_podatka    - *dtype = string* vnesi kombinacijo barve in vrste podatka: npr. 'r.' je rdeča pika \n",
    "    Napaka         - simuliranje namapake zaradi realnih meritev\n",
    "    Zapis_podatkov - True: Zapiše podatke v binarno pickle datoteko (simuliranje zapisa meritev)\n",
    "    Vrnitev        - True: Vrne rezultate direktno in ne potrebujemo zapisa v datoteko\n",
    "    \n",
    "    '''\n",
    "    \n",
    "    dx = D/n                               #dif majhna razdalja\n",
    "    x = np.linspace(dx/2, D-dx/2, num = n) #globina skozi ploščo\n",
    "    t = np.arange(0, t_max, dt)            # čas izvajaja\n",
    "    T = np.ones(n)*T0                      # definiramo prazno matriko temperature\n",
    "    dTdt = np.empty(n)                     # Začasna sprememba T\n",
    "    \n",
    "    TDt_diag = np.array([np.empty((3,n))]) #Končna matrika T, D, t\n",
    "    \n",
    "    if Izrisavanje==True:\n",
    "        %matplotlib notebook\n",
    "        fig = plt.figure('Temperatura po debelini plošče skozi čas pri varjenju')  #generiranje pod-grafa, ki gas znotraj glavnega grafa večkrat prepišemo\n",
    "        ax = fig.add_subplot(111) \n",
    "        fig.canvas.set_window_title('Potekanje izrisavanja')\n",
    "    \n",
    "    for j in range(1, len(t)):\n",
    "        for i in range(1, n-1):\n",
    "            dTdt[i] =  alpha*(-(T[i]-T[i-1])/dx**2 + (T[i+1]-T[i])/dx**2)   #osnovna enačba diferenciala temperature\n",
    "        dTdt[0] = alpha*(-(T[0]-T1s)/dx**2 + (T[1]-T[0])/dx**2)             #robni pogoj levi\n",
    "        dTdt[n-1] = alpha*(-(T[n-1]-T[n-2])/dx**2 + (T2s-T[n-1])/dx**2)     #robni pogoj desni\n",
    "        \n",
    "        Ti = T + dTdt*dt + Random(n, vkljuci = Napaka) #kličemo funkcijo za naključne vrednosti, ko je Napaka=True \n",
    "        T = T + dTdt*dt \n",
    "        \n",
    "        Di= np.linspace(0,D,n)\n",
    "        \n",
    "        ti = np.full(n, t[j])\n",
    "        \n",
    "        TDt_diag = np.append(TDt_diag, np.array([np.vstack((Ti, Di, ti))]), axis=0) #Zbiramo podatke trenutnega T, D in t\n",
    "        \n",
    "        if Izrisavanje==True:\n",
    "            ax.clear()                       #Brišemo prejšen graf pred prikazovanjem novega\n",
    "            ax.plot(x, Ti, Tip_podatka)       #graf izrišemo\n",
    "            plt.pause(t_rt)                  #Pavziramo in s tem manipuliramo s hitrostjo animacije\n",
    "            plt.ylim(T2s, T1s) \n",
    "            plt.title('Temperatura po debelini plošče')\n",
    "            plt.xlabel('Debelina - x [m]', fontsize=10)\n",
    "            plt.ylabel('Temperatura - T [$^o C$]', fontsize=10)\n",
    "            plt.grid()\n",
    "            fig.canvas.draw()\n",
    "            \n",
    "    if Zapis_podatkov==True:\n",
    "        with open('TDt_file.pkl', 'wb') as pkl_f:\n",
    "            pkl.dump(TDt_diag, pkl_f)     #ker imamo serijo '3D Array-ev' je najbolje zapisati njegovo vsebino binarno (je hitro in brez izgube podatkov)\n",
    "        \n",
    "    if Vrnitev==True:\n",
    "        return TDt_diag     #Funkcija vrne matrike TDt"
   ]
  },
  {
   "cell_type": "markdown",
   "metadata": {},
   "source": [
    "### Izris teoretično idealnega primera ###\n",
    "V teoretičnem idealnem primeru lahko animiramo spremembo temperature znotraj plošče. Kličemo izbrano funkcijo in pri tem:\n",
    "- izberemo čim večjo vrednost $n$ in izboljšamo natančnost\n",
    "- potrdimo izris grafa\n",
    "- ne zabeležujemo podatkov\n",
    "- pospešena animacija $50x$\n",
    "\n",
    "Za začetne vrednosti izberemo ploščo z debelino $D=0,1m$, jeklo z konstanto $\\alpha=2\\cdot 10^5$, Temperaturo varjenja $T_{1S}=1600^\\circ C$ in temperaturo okolice oziroma začetno temperaturo plošče $T_{1S}=20^\\circ C$. Varjenje izvajamo neprestano za $t_{max}=180s$."
   ]
  },
  {
   "cell_type": "markdown",
   "metadata": {},
   "source": [
    "**Pozor! ob izvajanju animacije naj se preostale kode ne izvaja dalje!**"
   ]
  },
  {
   "cell_type": "code",
   "execution_count": null,
   "metadata": {},
   "outputs": [],
   "source": [
    "### Vpišemo vhodne podatke ###\n",
    "n = 15    #število diferencialnih polj v plošči\n",
    "D_pl=0.1  #m; debelina plošče\n",
    "t_max=180 #s; čas izvajanja \n",
    "T1s=1600  #Temperatura jekla na točki varjenja\n",
    "T2s=20    #T; temperatura sobe\n",
    "T0=T2s    #T; začezna temperatura plošče\n",
    "\n",
    "TDt_diag_1 = f_dTdt(D=D_pl, n=n, t_max=t_max, t_rt=0.02, dt=1, alpha=0.00002, T0=T0, T1s=T1s, T2s=T2s, Izrisavanje=True , Tip_podatka='r-', Napaka=False, Zapis_podatkov=False, Vrnitev=True)"
   ]
  },
  {
   "cell_type": "markdown",
   "metadata": {},
   "source": [
    "Pri tako velikem številu točk je brez interpolacije prišla lepa krivulja. Vidimo tudi, da bi po neskončno dolgem času dobili linearne funkcijo, kar tudi vemo iz preproste razporeditve temperature skozi zid brez upoštevanja časa. "
   ]
  },
  {
   "cell_type": "markdown",
   "metadata": {},
   "source": [
    "### 3D prikaz temperatura po debelini plošče skozi čas pri varjenju ###\n",
    "Izrišemo lahko tudi 3D graf temperature v odvisnosti od globine plošče in časa gretja.\n",
    "\n",
    "Najprej dobljeno matriko razstavimo na dele:"
   ]
  },
  {
   "cell_type": "code",
   "execution_count": null,
   "metadata": {},
   "outputs": [],
   "source": [
    "T = np.array([TDt_diag_1[i,0] for i in range(1,len(TDt_diag_1))]) #komponenta temperature\n",
    "D = np.array([TDt_diag_1[i,1] for i in range(1,len(TDt_diag_1))]) #komponenta debeline plošče\n",
    "t = np.array([TDt_diag_1[i,2] for i in range(1,len(TDt_diag_1))]) #komponenta časa"
   ]
  },
  {
   "cell_type": "markdown",
   "metadata": {},
   "source": [
    "Uvozimo potrebne module za 3D risanje grafov "
   ]
  },
  {
   "cell_type": "code",
   "execution_count": null,
   "metadata": {},
   "outputs": [],
   "source": [
    "from mpl_toolkits.mplot3d import axes3d\n",
    "from matplotlib.ticker import LinearLocator, FormatStrFormatter"
   ]
  },
  {
   "cell_type": "markdown",
   "metadata": {},
   "source": [
    "Definiramo in izrišemo graf:"
   ]
  },
  {
   "cell_type": "code",
   "execution_count": null,
   "metadata": {},
   "outputs": [],
   "source": [
    "fig = plt.figure('3D prikaz temperatura po debelini plošče skozi čas pri varjenju')\n",
    "ax = fig.add_subplot(111, projection='3d') #Definiramo podgraf kot 3D\n",
    "surf = ax.plot_surface(D,t,T, rstride=10, cstride=1, cmap=mpl.cm.jet)\n",
    "ax.set_xlabel('Debelina - x [m]')\n",
    "ax.set_ylabel('Čas - t [s]')\n",
    "ax.set_zlabel('Temperature - T [$^o C$]')\n",
    "ax.zaxis.set_major_locator(LinearLocator(8))       #Bolje definiramo T - os\n",
    "ax.zaxis.set_major_formatter(FormatStrFormatter('%.00f'))\n",
    "fig.colorbar(surf, shrink=0.5, aspect=7) #dodamo legendo temperature\n",
    "plt.show()"
   ]
  },
  {
   "cell_type": "markdown",
   "metadata": {},
   "source": [
    "Dejansko je predhodnja animacija le premikanje grafa $T(x)$ po osi $t$."
   ]
  },
  {
   "cell_type": "markdown",
   "metadata": {},
   "source": [
    "## Meritve ##\n",
    "Funkcijo sedaj preuredimo in upoštevamo:\n",
    "\n",
    "- imamo 15 termoparov\n",
    "- imamo napako pri meritvah\n",
    "- podatke beležimo v datoteko *TDt_file.pkl*\n",
    "- Funkcija sama matrike TDt ne vrne"
   ]
  },
  {
   "cell_type": "code",
   "execution_count": null,
   "metadata": {},
   "outputs": [],
   "source": [
    "f_dTdt(D=D_pl, n=n, t_max=t_max, t_rt=0.02, dt=1, alpha=0.00002, T0=T0, T1s=T1s, T2s=T2s, Izrisavanje=True , Tip_podatka='r.', Napaka=True, Zapis_podatkov=True, Vrnitev=False)"
   ]
  },
  {
   "cell_type": "markdown",
   "metadata": {},
   "source": [
    "Funkcija je zapisala kombinirano matriko T,D in t v datoteko. Tako smo simulirali meritve, ki jih izvajamo pri naših preizkusnih varjenjih in jih pri tem beležili v stalno obliko!\n",
    "\n",
    "\n",
    "Datoteko lahko odpremo in podatke zapišemo v *python* spremenljivke:"
   ]
  },
  {
   "cell_type": "code",
   "execution_count": null,
   "metadata": {},
   "outputs": [],
   "source": [
    "with open('TDt_file.pkl', 'rb') as pkl_f:\n",
    "    TDt_diag_2 = pkl.load(pkl_f)"
   ]
  },
  {
   "cell_type": "code",
   "execution_count": null,
   "metadata": {},
   "outputs": [],
   "source": [
    "T1 = np.array([TDt_diag_2[i,0] for i in range(1,len(TDt_diag_2))]) #komponenta temperature\n",
    "D1 = np.array([TDt_diag_2[i,1] for i in range(1,len(TDt_diag_2))]) #komponenta debeline plošče\n",
    "t1 = np.array([TDt_diag_2[i,2] for i in range(1,len(TDt_diag_2))]) #komponenta časa"
   ]
  },
  {
   "cell_type": "markdown",
   "metadata": {},
   "source": [
    "Ponovno smo ločili matriko TDt na ločene matrike T, D in t. Vendar gre tokrat za s šumom obremenjene točke. \n",
    "## Postopek aproksimacije ##\n",
    "Sedaj, ko imamo z napakam obremenjene meritve se lahko lotimo aproksimacije.\n",
    "\n",
    "Aproksimacijo bomo izvajali na sistemu T(x) pri nekem času t. Postopek aproksimacije bomo najprej izvedli le v enem času vendar lahko isti princip uporabimo za vse trenutke v času segrevanja."
   ]
  },
  {
   "cell_type": "markdown",
   "metadata": {},
   "source": [
    "### Aproksimacija s polinomom ###\n",
    "\n",
    "Uporabimo knjižnico *numpy* za izvajanje **polinomske aproksimacije**. Ta poteka sledeče:\n",
    "- s funkcijo *np.polyfit* dobimo ob ustavljenih tabelah podatkov T in D seznam koeficientov polinoma reda $m$\n",
    "- ustvarimo nov objekt oz. funkcijo p s *np.poly1d*\n",
    "- funkcija vrne instanco objekta, s klicem katere lahko izračunamo aproksimacijski polinom\n",
    "\n",
    "Izrišemo tudi graf aproksimacije."
   ]
  },
  {
   "cell_type": "code",
   "execution_count": null,
   "metadata": {},
   "outputs": [],
   "source": [
    "def pol_aproksimacija(n_xg=1000, m=3, čas=t_max/2, izrisavanje=True, vrni=False):\n",
    "    '''\n",
    "    Funkcija izrisevanja aproksimacijskega polinoma funkcije T(x) v jekleni plošči.\n",
    "    \n",
    "    Parametri\n",
    "    ---------\n",
    "    n_xg        - število točk, ki jih vnesemo za aproksimiranje\n",
    "    m           - stopnja aproksimacijskega polinoma (m=1 - linearna aproksimacija; POZOR! pri večjih m pride do napake)\n",
    "    čas         - čas v kateri opzujemo funkcijo T(x)\n",
    "    izrisavanje - grafični prikaz aproksimacije\n",
    "    vrni        - vrne aproksimirano temperaturo\n",
    "    '''\n",
    "    t_t = čas -1\n",
    "    T_t = T1[t_t]\n",
    "    D_t = D1[t_t]\n",
    "    x_g = np.linspace(D_t[0], D_t[-1], n_xg)\n",
    "    \n",
    "    if izrisavanje == True:\n",
    "        koef = np.polyfit(D1[t_t], T1[t_t], deg=m)\n",
    "        p = np.poly1d(koef)\n",
    "        plt.plot(D1[t_t], T1[t_t], 'b.', label='Meritve')\n",
    "        plt.plot(D[t_t], T[t_t],'r--', label='Idealna krivulja')\n",
    "        plt.plot(x_g, p(x_g), 'g', lw=2, alpha=0.7, label='Aproksimacija s polinomom stopnje m')\n",
    "        plt.ylim(T2s, T1s) \n",
    "        plt.title('Temperatura po debelini plošče')\n",
    "        plt.xlabel('Debelina - x [m]', fontsize=10)\n",
    "        plt.ylabel('Temperatura - T [$^o C$]', fontsize=10)\n",
    "        plt.grid()\n",
    "        plt.legend()\n",
    "        plt.show()\n",
    "    \n",
    "    if vrni == True:\n",
    "        T_apr = np.empty((1,n_xg))\n",
    "        for i in range (0, t_t):\n",
    "            koef = np.polyfit(D1[i], T1[i], deg=m)\n",
    "            p = np.poly1d(koef)\n",
    "            T_apr_i = p(x_g)\n",
    "            T_apr = np.append(T_apr, [T_apr_i], axis=0)\n",
    "        \n",
    "        return T_apr"
   ]
  },
  {
   "cell_type": "markdown",
   "metadata": {},
   "source": [
    "Funkcijo izrisavanja grafa uporabimo v sklopu z paketom *ipywidgets* za interaktivno uporabo. Tako lahko vidimo različne čase in polinome aproksimacije različnih stopenj."
   ]
  },
  {
   "cell_type": "code",
   "execution_count": null,
   "metadata": {},
   "outputs": [],
   "source": [
    "from ipywidgets import interact #Graf, ki sledi bo interaktiven\n",
    "%matplotlib inline"
   ]
  },
  {
   "cell_type": "code",
   "execution_count": null,
   "metadata": {},
   "outputs": [],
   "source": [
    "plt.rcParams[\"figure.figsize\"] = (9,7)\n",
    "interact(pol_aproksimacija, n_xg=(n,1000,1), m=(1,14,1), čas=(1,t_max-1,1));"
   ]
  },
  {
   "cell_type": "markdown",
   "metadata": {},
   "source": [
    "Z uporabniško funkcijo *pol_aproksimacija* zapišimo vse aproksimirane numerične vrednosti temperatur."
   ]
  },
  {
   "cell_type": "code",
   "execution_count": null,
   "metadata": {},
   "outputs": [],
   "source": [
    "T_apr1 = pol_aproksimacija(n_xg=100, m=3, čas=t_max-1, izrisavanje=False, vrni=True)\n",
    "T_apr1"
   ]
  },
  {
   "cell_type": "markdown",
   "metadata": {},
   "source": [
    "### Aproksimacija z zlepki ###\n",
    "Aproksimiramo lahko tudi z tako imenovanimi **zlepki** z uporabo *scipy*. "
   ]
  },
  {
   "cell_type": "code",
   "execution_count": null,
   "metadata": {},
   "outputs": [],
   "source": [
    "def zlepki(n_xg=1000, čas=t_max/2, k=3, s=2*10**3, izrisavanje=True, vrni=False):\n",
    "    '''\n",
    "    Funkcija izrisevanja interpolirane ali aproksimirane funkcije T(x) v jekleni plošči.\n",
    "    \n",
    "    Parametri\n",
    "    ---------\n",
    "    n_xg        - število točk, ki jih vnesemo za aproksimiranje\n",
    "    k           - stopnja poravnjavanja (1 - 5)\n",
    "    s           - sum((w[i] * (y[i]-spl(x[i])))**2, axis=0) <= s; w - uteži; če je s=0 izvajamo interpolacijo\n",
    "    čas         - čas v kateri opzujemo funkcijo T(x)\n",
    "    izrisavanje - grafični prikaz aproksimacije\n",
    "    vrni        - vrne aproksimirano temperaturo\n",
    "    '''\n",
    "    t_t = čas -1\n",
    "    T_t = T1[t_t]\n",
    "    D_t = D1[t_t]\n",
    "    \n",
    "    x_g = np.linspace(D_t[0], D_t[-1], n_xg)\n",
    "    \n",
    "    if izrisavanje == True:\n",
    "        plt.plot(D_t, T_t, '.', ms=5, label='Meritve')\n",
    "        plt.plot(D[t_t], T[t_t], 'r--', label='idealna krivulja')\n",
    "        spl = UnivariateSpline(D_t, T_t, k = k, s=s)\n",
    "        plt.plot(x_g, spl(x_g), 'g', alpha=0.7, lw=2, label='interpolacija/aproksimacija s kubičnimi zlepki')\n",
    "        plt.ylim(T2s, T1s) \n",
    "        plt.title('Temperatura po debelini plošče')\n",
    "        plt.xlabel('Debelina - x [m]', fontsize=10)\n",
    "        plt.ylabel('Temperatura - T [$^o C$]', fontsize=10)\n",
    "        plt.grid()\n",
    "        plt.legend()\n",
    "        plt.show();\n",
    "    \n",
    "    if vrni == True:\n",
    "        T_apr = np.empty((1,n_xg))\n",
    "        for i in range (0, t_t):\n",
    "            spl = UnivariateSpline(D1[i], T1[i], k = k, s=s)\n",
    "            T_apr_i = spl(x_g)\n",
    "            T_apr = np.append(T_apr, [T_apr_i], axis=0)\n",
    "        \n",
    "        return T_apr"
   ]
  },
  {
   "cell_type": "code",
   "execution_count": null,
   "metadata": {},
   "outputs": [],
   "source": [
    "from scipy.interpolate import UnivariateSpline\n",
    "plt.rcParams[\"figure.figsize\"] = (9,7)\n",
    "interact(zlepki, n_xg=(n,1000,1), čas=(1,t_max-1,1), s=(0, 10**4, 1), k=(1,5,1));"
   ]
  },
  {
   "cell_type": "code",
   "execution_count": null,
   "metadata": {},
   "outputs": [],
   "source": [
    "T_apr2 = zlepki(n_xg=1000, čas=t_max-1, k=3, s=2*10**3, izrisavanje=False, vrni=True)\n",
    "T_apr2"
   ]
  },
  {
   "cell_type": "markdown",
   "metadata": {},
   "source": [
    "V obeh primerih smo določili število točk, ki jih aproksimiramo naši funkciji. Sedaj imamo aproksimirane in tako bolj točne rezultate. \n",
    "Z njimi bomo lahko odgovorili na vprašanje o maksimalni debelini plošče."
   ]
  },
  {
   "cell_type": "markdown",
   "metadata": {},
   "source": [
    "# Reševanje enačb (iskanje ničel) #"
   ]
  },
  {
   "cell_type": "markdown",
   "metadata": {},
   "source": [
    "## Določanje pozicije konstantne temperature ##\n",
    "Kot smo videli iz zgornjih grafov in animacije se s časom temperatura na določeni globini povečuje. Zamislimo si lahko tudi, da skozi čas neka konstantna temperatura prodira vedno globlje v našo jekleno ploščo debeline $D$.\n",
    "\n",
    "Z zgornjimi postopki smo preko aproksimacije s polinomom določili funkcijo $p$, kateri pa želimo pri neki mejni temperaturi $T_{mejna}$ določiti pozicijo $x$. Uporabimo postopke reševanja enačb oz. iskanja ničel, kjer je naša ničla $T_{mejna}$.\n",
    "\n",
    "Prikazali bomo dve metodi iskanja ničel. \n",
    "- **Bisekcijska metoda:**\n",
    " - zaprta metoda\n",
    " - vrne ničlo na podanem intervalu $[x=0, x=D]$ \n",
    " - relativno počasna, a zanesljiva\n",
    "- **Newtnova metoda:**\n",
    " - v osnovi sekantna metoda\n",
    " - potrebuje odvod funkcije ter približek ničle $x_0$.\n",
    " - ena izmed najhitrejših metod\n",
    " \n",
    "Obe metodi sta implementirani znotraj *scipy.optimize*"
   ]
  },
  {
   "cell_type": "code",
   "execution_count": null,
   "metadata": {},
   "outputs": [],
   "source": [
    "from scipy import optimize"
   ]
  },
  {
   "cell_type": "markdown",
   "metadata": {},
   "source": [
    "Kot že omenjeno bomo za reševanje enačbe potrebovali dejansko enačbo in ne le tabelo vrednosti. To bomo dobili z modificirano funkcijo polinomske aproksimacije *pol_aproksimacija*, ki jo preimenujemo v *nicle_pol_aproks*."
   ]
  },
  {
   "cell_type": "code",
   "execution_count": null,
   "metadata": {},
   "outputs": [],
   "source": [
    "def nicle_pol_aproks(n_xg=1000, m=3, čas=t_max/2, izrisavanje=True, T_meja=600, nicle='Bisekcija', D0_prib=D_pl/2):\n",
    "    '''\n",
    "    Funkcija za iskanje x pri T_meja.\n",
    "    \n",
    "    Funkcija izrisevanja aproksimacijskega polinoma funkcije T(x) v jekleni plošči. Po izračunanem aproksimiranem polinomu  \n",
    "    se le ta uporabi za iskanje \"ničle\", oziroma pozicije v \"x\" v plošči na temperaturi T_meja. \n",
    "    \n",
    "    Parametri:\n",
    "    ----------\n",
    "    n_xg        - število točk, ki jih vnesemo za aproksimiranje\n",
    "    m           - stopnja aproksimacijskega polinoma (m=1 - linearna aproksimacija; POZOR! pri večjih m pride do napake)\n",
    "    čas         - čas v kateri opzujemo funkcijo T(x)\n",
    "    izrisavanje - grafični prikaz aproksimacije ter ničle\n",
    "    T_meja      - temperatura za katero želimo vedeti razdaljo\n",
    "    nicle_bisekcija / nicle_newton = kličemo različne metode iskanja ničle\n",
    "         * D0_priblizek            = začetni približek Newtonske metode iskanja ničel\n",
    "    '''\n",
    "    t_t = čas -1\n",
    "    T_t = T1[t_t]\n",
    "    D_t = D1[t_t]\n",
    "    x_g = np.linspace(D_t[0], D_t[-1], n_xg)\n",
    "    \n",
    "    if izrisavanje == True:                                 #izrišemo aproksimacijski polinom, njegov odvod in pa T_meje \n",
    "        koef = np.polyfit(D1[t_t], T1[t_t], deg=m)\n",
    "        p = np.poly1d(koef)\n",
    "        dp = np.polyder(p)\n",
    "        plt.plot(D1[t_t], T1[t_t], 'b.', label='Meritve')\n",
    "        plt.plot(D[t_t], T[t_t],'r--', label='Idealna krivulja')\n",
    "        plt.plot(x_g, p(x_g), 'g', lw=2, alpha=0.8, label='Aproksimacija s polinomom p stopnje m')\n",
    "        plt.ylim(T2s, T1s) \n",
    "        plt.title('Temperatura po debelini plošče')\n",
    "        plt.xlabel('Debelina - x [m]', fontsize=10)\n",
    "        plt.ylabel('Temperatura - T [$^o C$]', fontsize=10)\n",
    "        plt.axhline(y=T_meja)                               #Kjer se izrisan graf seka z y-osjo pri T_meja je iskana nićla\n",
    "        plt.grid()\n",
    "        plt.legend()\n",
    "        plt.show()\n",
    "        \n",
    "    ### iskanje ničel ###\n",
    "    \n",
    "    if nicle == 'Bisekcija':\n",
    "        D_nicle = np.empty((1,1))\n",
    "        for i in range (1, t_t):\n",
    "            try:                                              #preverimo, če je funkcija sploh nad T_meja (nimamo ničel)\n",
    "                koef = np.polyfit(D1[i], T1[i]-T_meja, deg=m) #odštejemo ciljno temperaturo od naše celotne temperature; tako dobimo 'ničlo'\n",
    "                p = np.poly1d(koef)                           #dobimo funkcijo, ki jo kličemo kasneje\n",
    "                D_nicle_i = optimize.bisect(p, 0, D_t[-1])\n",
    "            except:\n",
    "                D_nicle_i = np.array([0])\n",
    "            finally:\n",
    "                D_nicle = np.append(D_nicle, D_nicle_i)\n",
    "        print(f'kjer je T v celoti pod ciljo temperaturo je D=0.') \n",
    "        return D_nicle\n",
    "        \n",
    "            \n",
    "    if nicle == 'Newton':\n",
    "        D_nicle = np.empty((1,1))\n",
    "        for i in range (1, t_t):\n",
    "            try:\n",
    "                if max(T1[i])<=T_meja:                                 #preverimo, če je funkcija sploh nad T_meja (nimamo ničel)              \n",
    "                    raise Exception()           \n",
    "                koef = np.polyfit(D1[i], T1[i]-T_meja, deg=m)          #odštejemo ciljno temperaturo od naše skupno temperature\n",
    "                p = np.poly1d(koef)                                    #dobimo funkcijo, ki jo kličemo\n",
    "                dp = np.polyder(p)                                     #odvod funkcije p\n",
    "                D_nicle_i = optimize.newton(p, D0_prib, fprime=dp)     #Začetna vrednost naj bo na polovici naše plošče\n",
    "                if (D_nicle_i or D_nicle>D_t[-1]) < 0:                 #v primeru, da konverigiramo na rezultat zunaj območja\n",
    "                    raise Exception()\n",
    "                D_nicle = np.append(D_nicle, D_nicle_i)    \n",
    "            except Exception:\n",
    "                D_nicle_i = np.array([0])                              #nepričakovan rezultat označimo z 0\n",
    "            finally:\n",
    "                D_nicle = np.append(D_nicle, D_nicle_i)\n",
    "                                    \n",
    "        print(f'kjer je T v celoti pod ciljno temperaturo je D=0.') \n",
    "        return D_nicle"
   ]
  },
  {
   "cell_type": "markdown",
   "metadata": {},
   "source": [
    "V interaktivni obiki, lahko prilagajamo parametre:"
   ]
  },
  {
   "cell_type": "code",
   "execution_count": null,
   "metadata": {},
   "outputs": [],
   "source": [
    "plt.rcParams[\"figure.figsize\"] = (9,7)\n",
    "interact(nicle_pol_aproks, n_xg=(n,1000,1), m=(1,14,1), čas=(1,t_max-1,1), T_meja=(T2s, T1s, 20), nicle=['Bisekcija','Newton']);"
   ]
  },
  {
   "cell_type": "markdown",
   "metadata": {},
   "source": [
    "Zadamo si, da je maksimalna temperatura, ki jo globina plošče lahko doseže $T_{mejna}=800^oC$. Tako lahko generiramo vektorsko polje pozicij, ki korelirajo k $T_{mejna}$ ob nekem času. Uporabili smo *Newtnovo metodo*."
   ]
  },
  {
   "cell_type": "code",
   "execution_count": null,
   "metadata": {
    "scrolled": true
   },
   "outputs": [],
   "source": [
    "x_T_meja=nicle_pol_aproks(n_xg=100, m=3, čas=t_max-1, izrisavanje=False, T_meja=800, nicle='Newton', D0_prib=0.05)\n",
    "x_T_meja"
   ]
  },
  {
   "cell_type": "markdown",
   "metadata": {},
   "source": [
    "## Določanje debeline plošče ##\n",
    "Prikažimo pozicijo naših \"ničel\" še grafično:"
   ]
  },
  {
   "cell_type": "code",
   "execution_count": null,
   "metadata": {},
   "outputs": [],
   "source": [
    "T_meja = 800\n",
    "t_T_meja = np.linspace(0, t_max, len(x_T_meja))\n",
    "\n",
    "koef_x = np.polyfit(t_T_meja, x_T_meja, deg=3)\n",
    "p_x = np.poly1d(koef_x)\n",
    "\n",
    "plt.plot(t_T_meja, x_T_meja, 'b.', alpha=0.1, label='Preračunane pozicije mejne temperature')\n",
    "plt.plot(t_T_meja ,p_x(t_T_meja), 'r', label='Aproksimirane pozicije mejne temperature')\n",
    "plt.title(f'Globina x od mesta varjenja za temperaturo T={T_meja}$^o C$ v plošči debeline D={D_pl} m skozi čas') \n",
    "plt.xlabel('Čas konstantnega varjenja - t [s]')\n",
    "plt.ylabel('Globina - x [m]')\n",
    "plt.grid()\n",
    "plt.legend()\n",
    "plt.show();"
   ]
  },
  {
   "cell_type": "markdown",
   "metadata": {},
   "source": [
    "Graf prikazuje odvisnost časa varjenja in globine na kateri dobimo željeno temperaturo. \n",
    "\n",
    "Na primer: \n",
    "* Če bi želeli temperaturo $800^oC$ na globini $3cm$, bi morali variti okoli $63s$.\n",
    "* Če bomo varili $100s$ bomo dobili temperaturo $800^oC$ na globini $4cm$.\n",
    "\n",
    "Seveda je graf sam odvisen od večih pogojev:\n",
    "- debeline plošče\n",
    "- temperature varjenja in okolice\n",
    "- iskane temperature\n",
    "\n",
    "( Zgoraj napisana primera sta določena pri plošči $D=10cm$ in $T_{varjenja}=1600^oC$ )"
   ]
  },
  {
   "cell_type": "markdown",
   "metadata": {},
   "source": [
    "Na zečtku tega dela naloge smo si zadali določiti debelino plošče $D$, ki je potrebna, da je ne prevarimo.\n",
    "\n",
    "Tako lahko iz končnega grafa razberemo, da če je naša maksimalna pogojna temperatura v plošči $T=800^oC$, da varimo z $T_{varjenja}=1600^oC$ ploščo $D=10cm$ cirka $30 sec$, bi morala naša plošča biti debela vsaj $2cm$.\n",
    "\n",
    "**Ploščo te debeline tudi uporabimo za našo konstrukcijo.**"
   ]
  },
  {
   "cell_type": "markdown",
   "metadata": {},
   "source": [
    "# Odvajanje #"
   ]
  },
  {
   "cell_type": "markdown",
   "metadata": {},
   "source": [
    "## Popravek maksimalnega časa ##\n",
    "Predpostavimo, da varimo neskončno dolgo časa, kar pomeni, da je čas varjenja $t_{maks} = \\infty$.\n",
    "\n",
    "Funkcija tamperature v steni skozi čas postaja vse bolj linearna. Ob naši predpostavki neskončnega časa to pomeni, da je:\n",
    "\n",
    "$$\\lim_{t\\to\\infty} T(x, t) = kx + n$$\n",
    "\n",
    "* $k$ - konstanta linearne funkcije\n",
    "* $n$ - začetna vrednost linearne funkcije\n",
    "\n",
    "Gre za **stacionarni profil temperature v steni** !\n",
    "\n",
    "Toda v realnem svetu (kot tudi v naši funkciji) segrevanje nikoli ne bo potekalo neskončno časa, vendar vemo, da po nekem času opazne spremembe več ni. Radi bi ugotovili kdaj bo funkcija $T(x,t)$ v dosegla neko vrednost, ki je dovolj podobna linearni. Takrat lahko tudi nehamo sistem opazovati in na novo difiniramo $t_{max}$.\n",
    "\n",
    "Lastnost linearne funkcije je, da je prvi odvod konstanta. Če izračunamo odvod funkcije $T(x,t)$ v vsaki točki in rezultate med seboj primerjamo bi v primeru $t_{maks} = \\infty$ dobili enake vrednosti. Pri naši funkciji pa bomo pri dovolj velikem $t_{max}$ dobili med seboj *podobne* vrednosti $T'(x,t)$. Željena natančnost je 1%.\n",
    "\n",
    "Pri numeričnem odvajanju imamo dva, v principu različna, pristopa:\n",
    "\n",
    "1. Najprej izvedemo interpolacijo/aproksimacijo, nato pa na podlagi znanih interpolacijskih/aproksimacijskih funkcij izračunamo odvod - to metodo smo že uporabili pri aproksimaciji z Newtnovo metodo, kjer smo iz aproksimacijskega polinoma izračunali odvod.\n",
    "2. Računanje odvoda **neposredno iz vrednosti tabele** z uporabo numeričnih metod."
   ]
  },
  {
   "cell_type": "markdown",
   "metadata": {},
   "source": [
    "Lotimo se drugega načina reševanja. Za tabelo vrednosti bomo vzeli vrednosti prvotne idealne funkcije $T$, $D$, $t$ ."
   ]
  },
  {
   "cell_type": "code",
   "execution_count": null,
   "metadata": {},
   "outputs": [],
   "source": [
    "TDt_diag_1 = f_dTdt(D=D_pl, n=n, t_max=10*t_max, t_rt=0.02, dt=1, alpha=0.00002, T0=T0, T1s=T1s, T2s=T2s, Izrisavanje=False , Tip_podatka='r-', Napaka=False, Zapis_podatkov=False, Vrnitev=True)"
   ]
  },
  {
   "cell_type": "code",
   "execution_count": null,
   "metadata": {},
   "outputs": [],
   "source": [
    "T = np.array([TDt_diag_1[i,0] for i in range(1,len(TDt_diag_1))]) #komponenta temperature\n",
    "D = np.array([TDt_diag_1[i,1] for i in range(1,len(TDt_diag_1))]) #komponenta debeline plošče\n",
    "t = np.array([TDt_diag_1[i,2] for i in range(1,len(TDt_diag_1))]) #komponenta časa"
   ]
  },
  {
   "cell_type": "markdown",
   "metadata": {},
   "source": [
    "### Funkcija odvajanja ###\n",
    "Naredimo novo funkcijo za numerično odvajanje, ki deluje preko *numpy.gradient*. Nato uporabimo *interact* za interaktivni prikaz.\n",
    "\n",
    "Za začetni $t_{max}$ izberemo veliko vrednost, kjer pričakujemo preveliko enakost odvodov v posameznih točkah. Kasneje bomo poiskali manjšo vrednost časa."
   ]
  },
  {
   "cell_type": "code",
   "execution_count": null,
   "metadata": {},
   "outputs": [],
   "source": [
    "def gradient_temperature(t=len(t), Izrisi=True, Izpis=False):\n",
    "    '''\n",
    "    Funkcija za izračun približka (prvega) numeričnega odvoda temperature T(x,t) pri varjenju, kjer je uporabljena \n",
    "    centralna diferenčna shema 2. reda implementirana skozi numpy.gradient()\n",
    "    \n",
    "    Parametri:\n",
    "    ----------\n",
    "    t[s]  - čas varjenja\n",
    "    Izris - True/False; Izriše izračunane odvode\n",
    "    Izpis - True/False; vrne izračunane odvode\n",
    "    '''\n",
    "    t_t = t           #zberemo podatke v odvisnosti od časa\n",
    "    T_t = T[t_t-1]\n",
    "    D_t = D[t_t-1]\n",
    "    \n",
    "    dT = np.gradient(T_t, D_t) #Izračun odvodov\n",
    "    \n",
    "    if Izrisi == True:\n",
    "        plt.plot(D_t, dT)\n",
    "        plt.title('Prvi odvod temperature po debelini plošče', loc='right')\n",
    "        plt.xlabel('Debelina - x [m]', fontsize=10)\n",
    "        plt.ylabel('dT/dx -  [$^o C$]/x', fontsize=10)\n",
    "        plt.grid()\n",
    "        plt.show()\n",
    "    \n",
    "    if Izpis == True:\n",
    "        return dT\n",
    "       "
   ]
  },
  {
   "cell_type": "code",
   "execution_count": null,
   "metadata": {},
   "outputs": [],
   "source": [
    "from ipywidgets import interact #Graf, ki sledi bo interaktiven\n",
    "%matplotlib inline\n",
    "plt.rcParams[\"figure.figsize\"] = (9,7)\n",
    "dT=interact( gradient_temperature, t=(1, len(t), 1) )"
   ]
  },
  {
   "cell_type": "markdown",
   "metadata": {},
   "source": [
    "### Končni maksimalni čas ###\n",
    "Sedaj, ko imamo grafično predstavo, kaj se dogaja s odvodom v času, lahko izračunamo bolj smiselni maksimalni čas. \n",
    "\n",
    "Postopali bomo tako:\n",
    "- naš pogoj bo zahteval maksimalno razliko med posametnimi vrednostmi: $P=1\\%$\n",
    "- za čas $t$ izračunamo prve odvode $dT'(x,t)$ v vseh točkah\n",
    "- izračunamo njihovo povprečje $\\overline T'(t)$\n",
    "- izračunamo relativno napako $\\delta dT'(t)$ \n",
    "$$ \\delta dT'(t) = \\dfrac {\\mid dT'(x,t) - \\overline T'(t) \\mid}{\\overline T'(t)} $$\n",
    "- primerjamo napako s pogojem\n",
    "- če so vsi odvodi znotraj pogoja, smo s časom zadovoljni; drgače zvišamo čas"
   ]
  },
  {
   "cell_type": "code",
   "execution_count": null,
   "metadata": {},
   "outputs": [],
   "source": [
    "odst = 0.01#*100% ; naš pogoj\n",
    "\n",
    "for i in range (1, len(t)):\n",
    "    dT=gradient_temperature(t=i, Izrisi=False, Izpis=True) #kličemo funkcijo \n",
    "    dt_avrg = np.mean(dT)\n",
    "    perc = np.abs( np.abs(dT - dt_avrg)/dt_avrg * 100 )#% ; dobimo procent odstopanja odvoda od povrpečja odvoda \n",
    "    if np.less(perc, odst).all():\n",
    "        t_max=i\n",
    "        break      #ustavimo zanko, ko je dosežema željena natančnost\n",
    "        \n",
    "f'Pod pogojem, da lahko posamezen 1. odvod odstopa za {odst*100}% od povprečja vseh odvodov je maksimalni čas {t_max}s'"
   ]
  },
  {
   "cell_type": "markdown",
   "metadata": {},
   "source": [
    "V zadnji točki lahko odvod in relativno napako prikažemo grafično. Funkcija bi morala biti linearna, odvod pa konstanta"
   ]
  },
  {
   "cell_type": "code",
   "execution_count": null,
   "metadata": {},
   "outputs": [],
   "source": [
    "plt.plot(D[t_max], T[t_max], 'r', label='funkcija T(x,t)')\n",
    "plt.plot(D[t_max], dT, 'b', label='odvod dT/dx')\n",
    "plt.plot(D[t_max], perc, 'g.', label='rel. napaka')\n",
    "plt.title('Funkcija pri max. času')\n",
    "plt.xlabel('Debelina - x [m]', fontsize=10)\n",
    "plt.ylabel('dT/dx -  [$^o C$]/x', fontsize=10)\n",
    "plt.legend()\n",
    "plt.grid()\n",
    "plt.show();"
   ]
  },
  {
   "cell_type": "markdown",
   "metadata": {},
   "source": [
    "Z upoštevanjem pogoja smo dobili smiselni $t_{max}$ generiranja grafa. Dejstvo pa je, da bomo vseeno varili veliko manj časa kot je to. "
   ]
  },
  {
   "cell_type": "markdown",
   "metadata": {},
   "source": [
    "# Zaključek #\n",
    "Preko numeričnih postopkov smo **uspešno kontrolirali dimenzije našega nosilca**.\n",
    "\n",
    "V prvem delu naloge smo ugotovili, da sta **dolžina $2m$ in premer $10cm$** jeklene palice okroglega prereza ustrezna in nam ne dasta prevelikega upogiba konzole.\n",
    "\n",
    "V drugem delu pa smo kontrolirali temperaturo znotraj plošče pri varjenju in ji zadali **debelino $2cm$**."
   ]
  },
  {
   "cell_type": "markdown",
   "metadata": {},
   "source": [
    "**Dodatno**\n",
    "\n",
    "Za nalogo v poglavju 4.1 (*Numerično reševanje enačbe upogibnice*) naredimo tudi GUI (*Graphical user interface*). Poženemo ga z naslednjim ukazom:"
   ]
  },
  {
   "cell_type": "code",
   "execution_count": null,
   "metadata": {},
   "outputs": [],
   "source": [
    "%run GUI_Poves_nosilca.ipynb"
   ]
  },
  {
   "cell_type": "code",
   "execution_count": null,
   "metadata": {},
   "outputs": [],
   "source": []
  }
 ],
 "metadata": {
  "kernelspec": {
   "display_name": "Python 3",
   "language": "python",
   "name": "python3"
  },
  "language_info": {
   "codemirror_mode": {
    "name": "ipython",
    "version": 3
   },
   "file_extension": ".py",
   "mimetype": "text/x-python",
   "name": "python",
   "nbconvert_exporter": "python",
   "pygments_lexer": "ipython3",
   "version": "3.7.7"
  },
  "toc": {
   "base_numbering": "1",
   "nav_menu": {},
   "number_sections": true,
   "sideBar": true,
   "skip_h1_title": false,
   "title_cell": "Kazalo",
   "title_sidebar": "Vsebina",
   "toc_cell": true,
   "toc_position": {
    "height": "calc(100% - 180px)",
    "left": "10px",
    "top": "150px",
    "width": "447.8px"
   },
   "toc_section_display": true,
   "toc_window_display": true
  },
  "varInspector": {
   "cols": {
    "lenName": 16,
    "lenType": 16,
    "lenVar": 40
   },
   "kernels_config": {
    "python": {
     "delete_cmd_postfix": "",
     "delete_cmd_prefix": "del ",
     "library": "var_list.py",
     "varRefreshCmd": "print(var_dic_list())"
    },
    "r": {
     "delete_cmd_postfix": ") ",
     "delete_cmd_prefix": "rm(",
     "library": "var_list.r",
     "varRefreshCmd": "cat(var_dic_list()) "
    }
   },
   "types_to_exclude": [
    "module",
    "function",
    "builtin_function_or_method",
    "instance",
    "_Feature"
   ],
   "window_display": false
  }
 },
 "nbformat": 4,
 "nbformat_minor": 2
}
